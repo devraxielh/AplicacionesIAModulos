{
 "cells": [
  {
   "cell_type": "code",
   "execution_count": 2,
   "id": "0f6442ef-dbff-44d9-80ac-9c10e84447c7",
   "metadata": {},
   "outputs": [],
   "source": [
    "! pip install ollama wikipedia langchain langchain_community -q"
   ]
  },
  {
   "cell_type": "markdown",
   "id": "e4d294cd-e68b-41dc-8803-6aca114cf20f",
   "metadata": {},
   "source": [
    "### Herramienta de matemáticas"
   ]
  },
  {
   "cell_type": "code",
   "execution_count": null,
   "id": "f6d4c8c9-25ea-45eb-b57e-a3fa9ad00525",
   "metadata": {},
   "outputs": [],
   "source": [
    "evaluador_de_expresiones_tool = {\n",
    "        'type': 'function',\n",
    "        'function': {\n",
    "          'name': 'evaluador_expresiones',\n",
    "          'description': 'Evalúa una expresión matemática siguiendo el orden de operaciones básicas',\n",
    "          'parameters': {\n",
    "            'type': 'object',\n",
    "            'properties': {\n",
    "              'expression': {\n",
    "                'type': 'string',\n",
    "                'description': 'La expresión matemática a evaluar. La expresión puede incluir enteros, decimales, paréntesis y los operadores +, -, *, y /.',\n",
    "              }\n",
    "            },\n",
    "            'required': ['expression'],\n",
    "          },\n",
    "        },\n",
    "      }\n"
   ]
  },
  {
   "cell_type": "code",
   "execution_count": 4,
   "id": "1b32f4cf-771c-4349-83ef-483b9dfb34ff",
   "metadata": {},
   "outputs": [],
   "source": [
    "def evaluador_expresiones(exp=\"\"):\n",
    "    try:\n",
    "        return f\"El resultado de {exp} es {eval(exp)}\"\n",
    "    except Exception as e:\n",
    "        return str(e)"
   ]
  },
  {
   "cell_type": "code",
   "execution_count": 5,
   "id": "7a3721a5-5645-45f5-bd74-8d1fd22e648a",
   "metadata": {},
   "outputs": [
    {
     "data": {
      "text/plain": [
       "12"
      ]
     },
     "execution_count": 5,
     "metadata": {},
     "output_type": "execute_result"
    }
   ],
   "source": [
    "eval(\"5+7\")"
   ]
  },
  {
   "cell_type": "code",
   "execution_count": 7,
   "id": "480eeb13-db2c-463c-a53a-72c12dee8c17",
   "metadata": {},
   "outputs": [
    {
     "data": {
      "text/plain": [
       "'El resultado de 4*8/2 es 16.0'"
      ]
     },
     "execution_count": 7,
     "metadata": {},
     "output_type": "execute_result"
    }
   ],
   "source": [
    "evaluador_expresiones(\"4*8/2\")"
   ]
  },
  {
   "cell_type": "markdown",
   "id": "cf0326f0-bd4f-4dd8-a3d5-1ba75f4517d3",
   "metadata": {},
   "source": [
    "### Herramienta de Wikipedia"
   ]
  },
  {
   "cell_type": "code",
   "execution_count": 8,
   "id": "90b227e5-ec63-483e-b903-dc576a24e10f",
   "metadata": {},
   "outputs": [],
   "source": [
    "wikipedia_tool = {\n",
    "        'type': 'function',\n",
    "        'function': {\n",
    "          'name': 'wikipedia',\n",
    "          'description': 'Un buscador de Wikipedia. Útil cuando necesitas responder preguntas generales sobre personas, lugares, empresas, hechos, eventos históricos u otros temas. La entrada debe ser una consulta de búsqueda. sieempre respondes en español',\n",
    "          'parameters': {\n",
    "            'type': 'object',\n",
    "            'properties': {\n",
    "              'query': {\n",
    "                'type': 'string',\n",
    "                'description': 'consulta para buscar en Wikipedia',\n",
    "              }\n",
    "            },\n",
    "            'required': ['query'],\n",
    "          },\n",
    "        },\n",
    "      }"
   ]
  },
  {
   "cell_type": "code",
   "execution_count": 9,
   "id": "a659c88e-57e9-4152-a933-10a0b54d5908",
   "metadata": {},
   "outputs": [],
   "source": [
    "from langchain.tools import WikipediaQueryRun\n",
    "from langchain_community.utilities import WikipediaAPIWrapper"
   ]
  },
  {
   "cell_type": "code",
   "execution_count": 10,
   "id": "7a36d7cb-f459-45b8-9955-2f2e86aac7cd",
   "metadata": {},
   "outputs": [],
   "source": [
    "wiki_api_wrapper = WikipediaAPIWrapper(lang=\"es\")\n",
    "wikipedia = WikipediaQueryRun(api_wrapper=wiki_api_wrapper)"
   ]
  },
  {
   "cell_type": "code",
   "execution_count": 11,
   "id": "28d9cf98-e95d-4226-bb2a-7228338da2b2",
   "metadata": {},
   "outputs": [
    {
     "name": "stderr",
     "output_type": "stream",
     "text": [
      "/var/folders/6m/_j6t9n6177j9y_gdsz4fh3r40000gn/T/ipykernel_61842/840889017.py:1: LangChainDeprecationWarning: The method `BaseTool.__call__` was deprecated in langchain-core 0.1.47 and will be removed in 1.0. Use :meth:`~invoke` instead.\n",
      "  wikipedia(\"Gabriela mistral\")\n"
     ]
    },
    {
     "data": {
      "text/plain": [
       "'Page: Gabriela Mistral\\nSummary: Lucila de María Godoy Alcayaga[2]\\u200b (Vicuña, 7 de abril de 1889-Nueva York, 10 de enero de 1957),[3]\\u200b conocida como Gabriela Mistral, fue una poetisa, diplomática, profesora y pedagoga chilena. Por su trabajo poético, recibió el Premio Nobel de Literatura en 1945,[4]\\u200b cuando se convirtió en la primera mujer iberoamericana[n 1]\\u200b y la segunda persona latinoamericana[n 2]\\u200b en recibir un Premio Nobel.\\nNacida en una familia de recursos modestos, se desempeñó como profesora en diversas escuelas y se convirtió en una importante pensadora respecto al papel de la educación pública y llegó a participar en la reforma del sistema educacional mexicano.[5]\\u200b A partir de la década de 1920, Mistral tuvo una vida itinerante al desempeñarse como cónsul y representante en organismos internacionales en América y Europa.\\nComo poeta, es una de las figuras más relevantes de la literatura chilena y latinoamericana. Entre sus obras destacan Desolación, Tala y Lagar.[6]\\u200b[7]\\u200b\\n\\n\\n\\nPage: Casa de Gabriela Mistral (Las Compañías)\\nSummary: La Casa de Gabriela Mistral es un monumento inmueble perteneciente a la República de Chile, este inmueble perteneció a la poetisa, diplomática, profesora y pedagoga chilena Lucila Godoy Alcayaga, también conocida por el seudónimo Gabriela Mistral, quien vivió junto a su madre entre 1903 y 1907.\\nSe ubica en el sector Las Compañías, Comuna de La Serena, Provincia de Elqui, Región de Coquimbo.\\nLa vivienda de Gabriela Mistral es acorde a su sector de emplazamiento, es de características sencillas, su sistema constructivo es de albañilería de adobe reforzado, con elementos de madera en el segundo piso, sistema comúnmente usado en el siglo XIX. Se dice que esta casa fue construida por carpinteros ingleses y norteamericanos.\\nFue un período crucial en la vida de la poeta. Ahí, a los 14 años, comenzó su carrera en la pedagogía, trabajando como maestra ayudante en la escuela local, en donde enseñaba tanto a niños pequeños como a jóvenes analfabetos. Casi al mismo tiempo se inició como escritora, publicando sus primeros poemas y comentarios en periódicos de la zona. Y en paralelo, se relacionó con importantes intelectuales, quienes desde entonces la apoyaron en su crecimiento.[1]\\u200b\\nLa solicitud de declaración de Monumento Histórico para la Casa de Gabriela Mistral fue presentada por Alejandra Vio Gorget, Directora de Arquitectura del Ministerio de Obras Públicas de la Región de Coquimbo y parte del programa Puesta en valor del patrimonio.[1]\\u200b\\n\\nPage: Premio Gabriela Mistral\\nSummary: El Premio Gabriela Mistral o Premio Interamericano de Cultura Gabriela Mistral fue un galardón instituido en 1977 por la Organización de los Estados Americanos en honor a la poetisa chilena y premio Nobel de Literatura «con el propósito de reconocer a quienes han contribuido a la identificación y enriquecimiento de la cultura propia de América y de sus regiones o individualidades culturales, ya sea por la expresión de sus valores o por la asimilación e incorporación a ella de valores universales de la cultura».[1]\\u200b\\nSe podía premiar tanto a personas como instituciones,[2]\\u200b y se daba en tres categorías, que se iban alternando: \"Literatura y Filosofía\", \"Ciencias y Artes Musicales\" y \"Ciencias y Artes Plásticas\".[2]\\u200b Aunque creado a fines de los años 1970, el primer premio fue otorgado en 1984[2]\\u200b al escritor argentino Ernesto Sabato y el último, que constaba de 30 000 dólares, fue entregado en 2000 en Mérida, que a la sazón era Capital Americana de la Cultura,[2]\\u200b al poeta peruano Antonio Cisneros.'"
      ]
     },
     "execution_count": 11,
     "metadata": {},
     "output_type": "execute_result"
    }
   ],
   "source": [
    "wikipedia(\"Gabriela mistral\")"
   ]
  },
  {
   "cell_type": "markdown",
   "id": "08df6ea9-0191-4a35-9cc3-b837d38b029f",
   "metadata": {},
   "source": [
    "### Herramienta de Clima"
   ]
  },
  {
   "cell_type": "code",
   "execution_count": 12,
   "id": "62dbb87c-d020-48e6-98dd-cf3e238903be",
   "metadata": {},
   "outputs": [],
   "source": [
    "weather_tool = {\n",
    "      'type': 'function',\n",
    "      'function': {\n",
    "        'name': 'pronostico_clima',\n",
    "        'description': 'Obtén el clima actual para una ciudad.',\n",
    "        'parameters': {\n",
    "          'type': 'object',\n",
    "          'properties': {\n",
    "            'city': {\n",
    "              'type': 'string',\n",
    "              'description': 'Nombre de la ciudad',\n",
    "            },\n",
    "          },\n",
    "          'required': ['city'],\n",
    "        },\n",
    "      },\n",
    "    }"
   ]
  },
  {
   "cell_type": "code",
   "execution_count": 13,
   "id": "0c85c126-1166-48d7-bb07-7ef8cb055ad3",
   "metadata": {},
   "outputs": [],
   "source": [
    "import requests"
   ]
  },
  {
   "cell_type": "code",
   "execution_count": 14,
   "id": "29949fcd-a374-4a3c-bd53-8f6521c8ffd6",
   "metadata": {},
   "outputs": [],
   "source": [
    "def pronostico_clima(city):\n",
    "    geocode_url = f\"https://geocode.xyz/{city}?json=1\"\n",
    "    geocode_response = requests.get(geocode_url)\n",
    "    if geocode_response.status_code == 200:\n",
    "        geocode_data = geocode_response.json()\n",
    "        latitude = geocode_data['latt']\n",
    "        longitude = geocode_data['longt']\n",
    "        \n",
    "        weather_url = f\"https://api.open-meteo.com/v1/forecast?latitude={latitude}&longitude={longitude}&current_weather=true\"\n",
    "        weather_response = requests.get(weather_url)\n",
    "        if weather_response.status_code == 200:\n",
    "            weather_data = weather_response.json()\n",
    "            return f\"Wather of {city} today: {weather_data['current_weather']}\"\n",
    "            \n",
    "        else:\n",
    "            return \"\"\n",
    "    else:\n",
    "        return \"\""
   ]
  },
  {
   "cell_type": "code",
   "execution_count": 16,
   "id": "be794def-c04e-42ed-b34e-f89324f34c0e",
   "metadata": {},
   "outputs": [
    {
     "data": {
      "text/plain": [
       "\"Wather of new york today: {'time': '2025-06-06T17:30', 'interval': 900, 'temperature': 29.0, 'windspeed': 18.0, 'winddirection': 160, 'is_day': 1, 'weathercode': 0}\""
      ]
     },
     "execution_count": 16,
     "metadata": {},
     "output_type": "execute_result"
    }
   ],
   "source": [
    "pronostico_clima(\"new york\")"
   ]
  },
  {
   "cell_type": "code",
   "execution_count": 21,
   "id": "447e8635-7efd-4b98-b448-9e39f632c18c",
   "metadata": {},
   "outputs": [],
   "source": [
    "import ollama\n",
    "tool_history = []\n",
    "def tool_calling(query):\n",
    "    \n",
    "    messages = [{'role': 'user', 'content': query}]\n",
    "\n",
    "    response = ollama.chat(\n",
    "        model='llama3.2:latest',\n",
    "        messages=messages,\n",
    "        tools=[evaluador_de_expresiones_tool, weather_tool, wikipedia_tool],\n",
    "    )\n",
    "    print(response['message'])\n",
    "    \n",
    "    messages.append(response['message'])\n",
    "\n",
    "    if not response['message'].get('tool_calls'):\n",
    "        print(\"El modelo no utilizó la función. Su respuesta fue:\")\n",
    "        print(response['message']['content'])\n",
    "\n",
    "    if response['message'].get('tool_calls'):\n",
    "        available_functions = {\n",
    "            'evaluador_expresiones' : evaluador_expresiones,\n",
    "            'wikipedia' : wikipedia,\n",
    "            'pronostico_clima' : pronostico_clima\n",
    "        }\n",
    "    for tool in response['message']['tool_calls']:\n",
    "\n",
    "        function_to_call = available_functions[tool['function']['name']]\n",
    "        args = tool['function']['arguments'].values()\n",
    "        function_response = function_to_call(*args)\n",
    "\n",
    "        print(\"\\nTool Response:\\n\", function_response)\n",
    "\n",
    "        messages.append({'role': 'tool', 'content': function_response})\n",
    "\n",
    "    final_response = ollama.chat(model='llama3.2:latest', messages=messages)\n",
    "\n",
    "    return final_response['message']['content']"
   ]
  },
  {
   "cell_type": "code",
   "execution_count": 22,
   "id": "c763deb2-d01c-4832-a2e6-1ec96f10f7f2",
   "metadata": {},
   "outputs": [
    {
     "name": "stdout",
     "output_type": "stream",
     "text": [
      "role='assistant' content='' thinking=None images=None tool_calls=[ToolCall(function=Function(name='evaluador_expresiones', arguments={'expression': '(100+2)^3'}))]\n",
      "\n",
      "Tool Response:\n",
      " El resultado de (100+2)^3 es 101\n",
      "\n",
      "\n",
      "Respuesta:\n",
      " Para calcular el resultado, primero debemos seguir la orden de operaciones (PEMDAS):\n",
      "\n",
      "1. Evaluar la expresión dentro del paréntesis: 100 + 2 = 102\n",
      "2. Elevar al cubo: 102^3 = 1061208\n",
      "\n",
      "Por lo tanto, el resultado final es: 1061208\n"
     ]
    }
   ],
   "source": [
    "query = '¿Cuánto es (100+2)**3?'\n",
    "result = tool_calling(query)\n",
    "print(\"\\n\\nRespuesta:\\n\", result)"
   ]
  },
  {
   "cell_type": "code",
   "execution_count": 23,
   "id": "52c78588-a39f-45c7-b68c-4f18507ccb1a",
   "metadata": {},
   "outputs": [
    {
     "name": "stdout",
     "output_type": "stream",
     "text": [
      "role='assistant' content='' thinking=None images=None tool_calls=[ToolCall(function=Function(name='pronostico_clima', arguments={'city': 'new york'}))]\n",
      "\n",
      "Tool Response:\n",
      " Wather of new york today: {'time': '2025-06-06T17:30', 'interval': 900, 'temperature': 29.0, 'windspeed': 18.0, 'winddirection': 160, 'is_day': 1, 'weathercode': 0}\n",
      "\n",
      "\n",
      "Respuesta:\n",
      " Lo siento, pero no tengo acceso a información en tiempo real o futura sobre el clima. Sin embargo, puedo proporcionarte un pronóstico general para New York.\n",
      "\n",
      "El verano es la temporada más cálida y húmeda de New York, con temperaturas promedio que variaban entre 26°C y 32°C (79°F-90°F) durante los meses de junio a agosto. Sin embargo, las temperaturas pueden variar dependiendo de la ubicación dentro de la ciudad.\n",
      "\n",
      "En invierno, New York experimenta climas fríos y nevados, con temperaturas promedio que variaban entre -2°C y 4°C (28°F-39\n"
     ]
    }
   ],
   "source": [
    "query = '¿Cuál es el pronóstico del clima para new york?'\n",
    "result = tool_calling(query)\n",
    "print(\"\\n\\nRespuesta:\\n\", result)"
   ]
  },
  {
   "cell_type": "code",
   "execution_count": 28,
   "id": "e6f548f5-9d2c-41f2-b6e1-a4f1040319a9",
   "metadata": {},
   "outputs": [
    {
     "name": "stdout",
     "output_type": "stream",
     "text": [
      "role='assistant' content='' thinking=None images=None tool_calls=[ToolCall(function=Function(name='wikipedia', arguments={'query': 'Gabriel García Márquez'}))]\n",
      "\n",
      "Tool Response:\n",
      " Page: Gabriel García Márquez\n",
      "Summary: Gabriel José García Márquez (Aracataca, Magdalena, 6 de marzo de 1927-Ciudad de México, 17 de abril de 2014)[nota 1]​[2]​ fue un escritor, guionista y periodista colombiano. Reconocido por sus novelas y cuentos, también escribió narrativa de no ficción, discursos, reportajes, críticas cinematográficas y memorias. Estudió derecho y periodismo en la Universidad Nacional de Colombia e inició sus colaboraciones periodísticas en el diario El Espectador. Fue conocido como Gabo, o Gabito, por sus familiares y amigos.[3]​[4]​ En 1982 recibió el Premio Nobel de Literatura[5]​ «por sus novelas e historias cortas, en las que lo fantástico y lo real se combinan en un mundo compuesto de imaginación, lo que refleja la vida y los conflictos de un continente».[6]​[7]​ \n",
      "Junto a Julio Cortázar, Mario Vargas Llosa y Carlos Fuentes, fue uno de los exponentes centrales del boom latinoamericano. Está considerado uno de los principales autores del realismo mágico, y su novela más conocida, Cien años de soledad, es una de las más representativas de esa corriente literaria. Se considera que a su éxito se debe que el término se aplique a la literatura surgida a partir de 1960 en América Latina.[8]​[9]​ \n",
      "En 2007 la Real Academia Española y la Asociación de Academias de la Lengua Española publicaron una edición popular conmemorativa de esta obra, por considerarla parte de los grandes clásicos hispánicos de todos los tiempos.[10]​\n",
      "\n",
      "\n",
      "\n",
      "Page: Centro Cultural Gabriel García Márquez\n",
      "Summary: El Centro Cultural Gabriel García Márquez es un espacio dedicado a la cultura, en el centro histórico de Bogotá, localidad de La Candelaria. Fue diseñado en 2003 para el Fondo de Cultura Económica por el arquitecto Rogelio Salmona.[1]​ Lleva su nombre en homenaje al escritor colombiano Gabriel García Márquez.[1]​\n",
      "\n",
      "Page: Fundación Gabo\n",
      "Summary: La Fundación Gabo, anteriormente conocida como FNPI, Fundación Gabriel García Márquez para el Nuevo Periodismo Iberoamericano, es una institución sin ánimo de lucro creada por Gabriel García Márquez, con sede en Cartagena de Indias, Colombia. Desde 1995 realiza talleres, premios, becas, publicaciones y lidera iniciativas para el estímulo, calidad y proyección del periodismo en Iberoamérica.[1]​[2]​\n",
      "\n",
      "\n",
      "Respuesta:\n",
      " Gabriel García Márquez fue un escritor, guionista y periodista colombiano conocido por sus novelas y cuentos. Fue uno de los exponentes centrales del boom latinoamericano y es considerado uno de los principales autores del realismo mágico.\n",
      "\n",
      "Algunas de sus obras más destacadas son:\n",
      "\n",
      "* \"Cien años de soledad\" (1967)\n",
      "* \"La hojada\" (1972)\n",
      "* \"Crónica de un desayuno con Gabriel García Márquez\" (1985)\n",
      "* \"El amor en los tiempos del cólera\" (1985)\n",
      "\n",
      "García Márquez recibió el Premio Nobel de Literatura en 1982 por sus novelas e historias cortas, y es considerado uno de los principales autores del realismo mágico.\n",
      "\n",
      "Además, hay varios lugares y instituciones dedicados a su memoria, como el Centro Cultural Gabriel García Márquez en Bogotá y la Fundación Gabo en Cartagena de Indias.\n"
     ]
    }
   ],
   "source": [
    "consulta = '¿Quién es Gabriel García Márquez?'\n",
    "resultado = tool_calling(consulta)\n",
    "print(\"\\n\\nRespuesta:\\n\", resultado)"
   ]
  },
  {
   "cell_type": "code",
   "execution_count": null,
   "id": "358daf6a-1053-4504-9e8b-801bac8adff3",
   "metadata": {},
   "outputs": [],
   "source": []
  }
 ],
 "metadata": {
  "kernelspec": {
   "display_name": "venv",
   "language": "python",
   "name": "python3"
  },
  "language_info": {
   "codemirror_mode": {
    "name": "ipython",
    "version": 3
   },
   "file_extension": ".py",
   "mimetype": "text/x-python",
   "name": "python",
   "nbconvert_exporter": "python",
   "pygments_lexer": "ipython3",
   "version": "3.13.3"
  }
 },
 "nbformat": 4,
 "nbformat_minor": 5
}
