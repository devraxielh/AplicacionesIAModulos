{
 "cells": [
  {
   "cell_type": "code",
   "execution_count": 35,
   "id": "f6d4c8c9-25ea-45eb-b57e-a3fa9ad00525",
   "metadata": {},
   "outputs": [],
   "source": [
    "explicador_codigo_tool = {\n",
    "    'type': 'function',\n",
    "    'function': {\n",
    "        'name': 'explicador_codigo',\n",
    "        'description': 'Explica paso a paso el funcionamiento del código fuente dado, línea por línea o por bloques',\n",
    "        'parameters': {\n",
    "            'type': 'object',\n",
    "            'properties': {\n",
    "                'codigo': {\n",
    "                    'type': 'string',\n",
    "                    'description': 'El código fuente a explicar',\n",
    "                }\n",
    "            },\n",
    "            'required': ['lenguaje', 'codigo'],\n",
    "        },\n",
    "    },\n",
    "}\n",
    "def explicador_codigo(codigo=\"\"):\n",
    "    explicacion = []\n",
    "    lineas = codigo.strip().split('\\n')\n",
    "    for i, linea in enumerate(lineas, 1):\n",
    "        if not linea.strip():\n",
    "            continue\n",
    "        explicacion.append(f\"Línea {i}: `{linea.strip()}` — Esta línea...\")\n",
    "    return \"\\n\".join(explicacion)"
   ]
  },
  {
   "cell_type": "code",
   "execution_count": 36,
   "id": "7a3721a5-5645-45f5-bd74-8d1fd22e648a",
   "metadata": {},
   "outputs": [
    {
     "data": {
      "text/plain": [
       "'Línea 1: `x = 1` — Esta línea...\\nLínea 2: `y = 2` — Esta línea...\\nLínea 3: `r = x+y` — Esta línea...'"
      ]
     },
     "execution_count": 36,
     "metadata": {},
     "output_type": "execute_result"
    }
   ],
   "source": [
    "code = \"\"\"\n",
    "x = 1\n",
    "y = 2\n",
    "r = x+y\n",
    "\"\"\"\n",
    "explicador_codigo(code)"
   ]
  },
  {
   "cell_type": "code",
   "execution_count": 37,
   "id": "0875aaeb",
   "metadata": {},
   "outputs": [],
   "source": [
    "texto_a_tabla_sqlite_tool = {\n",
    "    'type': 'function',\n",
    "    'function': {\n",
    "        'name': 'texto_a_tabla_sqlite',\n",
    "        'description': 'Convierte texto libre en una tabla SQLite y ejecuta los comandos en una base de datos local',\n",
    "        'parameters': {\n",
    "            'type': 'object',\n",
    "            'properties': {\n",
    "                'texto': {\n",
    "                    'type': 'string',\n",
    "                    'description': 'Texto con registros o listas que deben convertirse a SQL'\n",
    "                },\n",
    "                'nombre_tabla': {\n",
    "                    'type': 'string',\n",
    "                    'description': 'Nombre deseado para la tabla en la base de datos SQLite'\n",
    "                }\n",
    "            },\n",
    "            'required': ['texto', 'nombre_tabla']\n",
    "        }\n",
    "    }\n",
    "}\n",
    "\n",
    "import sqlite3\n",
    "import os\n",
    "import re\n",
    "import ollama\n",
    "\n",
    "def texto_a_tabla_sqlite(texto=\"\", nombre_tabla=\"tabla\"):\n",
    "    db_path = \"data.db\"\n",
    "\n",
    "    # Crear archivo .db si no existe\n",
    "    if not os.path.exists(db_path):\n",
    "        open(db_path, 'w').close()\n",
    "\n",
    "    # Prompt para Ollama: solo SQL, sin explicaciones ni markdown\n",
    "    prompt = f\"\"\"\n",
    "Convierte el siguiente texto en código SQL válido para SQLite.\n",
    "\n",
    "Nombre de la tabla: {nombre_tabla}\n",
    "\n",
    "Texto:\n",
    "{texto}\n",
    "\n",
    "Devuelve solamente SQL, sin explicaciones, comentarios, encabezados, ni etiquetas como ```sql. El resultado debe empezar con CREATE TABLE y terminar con los INSERTs.\n",
    "    \"\"\"\n",
    "\n",
    "    # Llamada a Ollama\n",
    "    response = ollama.chat(\n",
    "        model=\"llama3.2:latest\",\n",
    "        messages=[{\"role\": \"user\", \"content\": prompt}]\n",
    "    )\n",
    "\n",
    "    # Extraer solo el SQL desde \"CREATE TABLE\"\n",
    "    sql_code_raw = response[\"message\"][\"content\"]\n",
    "    match = re.search(r'CREATE TABLE[\\s\\S]+', sql_code_raw, re.IGNORECASE)\n",
    "\n",
    "    if not match:\n",
    "        return f\"❌ No se encontró una sentencia CREATE TABLE válida.\\n\\n📄 Contenido:\\n{sql_code_raw}\"\n",
    "\n",
    "    sql_code_dirty = match.group(0)\n",
    "\n",
    "    # Eliminar líneas no ejecutables (markdown, notas)\n",
    "    sql_code_lines = sql_code_dirty.splitlines()\n",
    "    sql_code = \"\\n\".join(\n",
    "        line for line in sql_code_lines\n",
    "        if not line.strip().startswith(\"```\") and \"nota:\" not in line.lower()\n",
    "    )\n",
    "\n",
    "    # Ejecutar SQL\n",
    "    try:\n",
    "        conn = sqlite3.connect(db_path)\n",
    "        cursor = conn.cursor()\n",
    "        cursor.executescript(sql_code)\n",
    "        conn.commit()\n",
    "\n",
    "        # Verificar registros\n",
    "        cursor.execute(f\"SELECT * FROM {nombre_tabla} LIMIT 5;\")\n",
    "        rows = cursor.fetchall()\n",
    "        columns = [desc[0] for desc in cursor.description]\n",
    "        conn.close()\n",
    "\n",
    "        # Resultado\n",
    "        preview = \"\\n\".join(str(dict(zip(columns, row))) for row in rows)\n",
    "        return f\"Base de datos `data.db` creada y tabla `{nombre_tabla}` insertada con éxito.\\n\\n📋 Registros de ejemplo:\\n{preview}\"\n",
    "\n",
    "    except Exception as e:\n",
    "        return sql_code"
   ]
  },
  {
   "cell_type": "code",
   "execution_count": 38,
   "id": "447e8635-7efd-4b98-b448-9e39f632c18c",
   "metadata": {},
   "outputs": [],
   "source": [
    "import ollama\n",
    "tool_history = []\n",
    "def tool_calling(query):\n",
    "    messages = [{'role': 'user', 'content': query}]\n",
    "\n",
    "    response = ollama.chat(\n",
    "        model='llama3.2:latest',\n",
    "        messages=messages,\n",
    "        tools=[explicador_codigo, texto_a_tabla_sqlite],\n",
    "    )\n",
    "    print(response['message'])\n",
    "    messages.append(response['message'])\n",
    "\n",
    "    if not response['message'].get('tool_calls'):\n",
    "        print(\"El modelo no utilizó la función. Su respuesta fue:\")\n",
    "        print(response['message']['content'])\n",
    "\n",
    "    if response['message'].get('tool_calls'):\n",
    "        available_functions = {\n",
    "            'explicador_codigo' : explicador_codigo,\n",
    "            'texto_a_tabla_sqlite' : texto_a_tabla_sqlite,\n",
    "        }\n",
    "    for tool in response['message']['tool_calls']:\n",
    "\n",
    "        function_to_call = available_functions[tool['function']['name']]\n",
    "        args = tool['function']['arguments'].values()\n",
    "        function_response = function_to_call(*args)\n",
    "\n",
    "        print(\"\\nTool Response:\\n\", function_response)\n",
    "\n",
    "        messages.append({'role': 'tool', 'content': function_response})\n",
    "\n",
    "    final_response = ollama.chat(model='llama3.2:latest', messages=messages)\n",
    "\n",
    "    return final_response['message']['content']"
   ]
  },
  {
   "cell_type": "code",
   "execution_count": 39,
   "id": "c763deb2-d01c-4832-a2e6-1ec96f10f7f2",
   "metadata": {},
   "outputs": [
    {
     "name": "stdout",
     "output_type": "stream",
     "text": [
      "role='assistant' content='' thinking=None images=None tool_calls=[ToolCall(function=Function(name='explicador_codigo', arguments={'codigo': 'x = 1; y = 2; r = x+y'}))]\n",
      "\n",
      "Tool Response:\n",
      " Línea 1: `x = 1; y = 2; r = x+y` — Esta línea...\n",
      "\n",
      "\n",
      "Respuesta:\n",
      " import math\n",
      "\n",
      "def calculate_r():\n",
      "    # Definir variables\n",
      "    x = 1\n",
      "    y = 2\n",
      "    \n",
      "    # Calcular valor de r\n",
      "    r = x + y\n",
      "    return r\n",
      "\n",
      "r = calculate_r()\n",
      "print(\"El valor de la variable r es:\", r)\n"
     ]
    }
   ],
   "source": [
    "query = \"\"\"\n",
    "x = 1\n",
    "y = 2\n",
    "r = x+y\n",
    "\"\"\"\n",
    "result = tool_calling(query)\n",
    "print(\"\\n\\nRespuesta:\\n\", result)"
   ]
  },
  {
   "cell_type": "code",
   "execution_count": 40,
   "id": "53d706eb",
   "metadata": {},
   "outputs": [
    {
     "name": "stdout",
     "output_type": "stream",
     "text": [
      "role='assistant' content='' thinking=None images=None tool_calls=[ToolCall(function=Function(name='texto_a_tabla_sqlite', arguments={'nombre_tabla': 'productos', 'texto': '- Café especial, 12000\\n- Té verde, 8000\\n- Chocolate oscuro, 9500'}))]\n",
      "\n",
      "Tool Response:\n",
      " CREATE TABLE productos (\n",
      "    id INTEGER PRIMARY KEY,\n",
      "    nombre TEXT NOT NULL,\n",
      "    precio REAL NOT NULL\n",
      ");\n",
      "\n",
      "INSERT INTO productos VALUES (1, 'Café especial', 12000);\n",
      "INSERT INTO productos VALUES (2, 'Té verde', 8000);\n",
      "INSERT INTO productos VALUES (3, 'Chocolate oscuro', 9500);\n"
     ]
    },
    {
     "data": {
      "text/plain": [
       "'Esto es un ejemplo de código SQL que crea una tabla llamada \"productos\" en una base de datos SQLite. La tabla tiene tres columnas: `id`, `nombre` y `precio`. El campo `id` es el identificador primario, `nombre` almacena el nombre del producto y `precio` almacena el precio del producto.\\n\\nLuego, se insertan tres filas en la tabla, cada una con un valor único para `id`, `nombre` y `precio`.\\n\\nRecuerda que debes ejecutar este código en tu base de datos SQLite para crear la tabla y los registros.'"
      ]
     },
     "execution_count": 40,
     "metadata": {},
     "output_type": "execute_result"
    }
   ],
   "source": [
    "query = \"\"\"\n",
    "Tengo esta lista de productos:\n",
    "- Café especial, 12000\n",
    "- Té verde, 8000\n",
    "- Chocolate oscuro, 9500\n",
    "\n",
    "Crea una tabla SQLite llamada 'productos'\n",
    "\"\"\"\n",
    "tool_calling(query)"
   ]
  },
  {
   "cell_type": "code",
   "execution_count": null,
   "id": "067dcf9e",
   "metadata": {},
   "outputs": [],
   "source": []
  },
  {
   "cell_type": "code",
   "execution_count": null,
   "id": "a5a0810d",
   "metadata": {},
   "outputs": [],
   "source": []
  },
  {
   "cell_type": "code",
   "execution_count": null,
   "id": "898b9daa",
   "metadata": {},
   "outputs": [],
   "source": []
  }
 ],
 "metadata": {
  "kernelspec": {
   "display_name": "venv",
   "language": "python",
   "name": "python3"
  },
  "language_info": {
   "codemirror_mode": {
    "name": "ipython",
    "version": 3
   },
   "file_extension": ".py",
   "mimetype": "text/x-python",
   "name": "python",
   "nbconvert_exporter": "python",
   "pygments_lexer": "ipython3",
   "version": "3.13.3"
  }
 },
 "nbformat": 4,
 "nbformat_minor": 5
}
